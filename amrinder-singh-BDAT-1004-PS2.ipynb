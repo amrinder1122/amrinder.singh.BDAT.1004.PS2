{
 "cells": [
  {
   "cell_type": "markdown",
   "id": "8d77eeed",
   "metadata": {},
   "source": [
    "# 1"
   ]
  },
  {
   "cell_type": "code",
   "execution_count": 1,
   "id": "4bd8e051",
   "metadata": {},
   "outputs": [
    {
     "name": "stdout",
     "output_type": "stream",
     "text": [
      "6\n"
     ]
    }
   ],
   "source": [
    "a=0\n",
    "\n",
    "def b():\n",
    "    global a\n",
    "    a=c(a)\n",
    "\n",
    "def c(a):\n",
    "    return a+2\n",
    "    \n",
    "b()\n",
    "b()\n",
    "b()\n",
    "print(a)\n"
   ]
  },
  {
   "cell_type": "markdown",
   "id": "1f80ce5b",
   "metadata": {},
   "source": [
    "After running code: the output received of \"a\" is 6, so when we call \"b\" function the variable \"a\" will glocal declared, so if any change is done in \"a\" it will globally updated, therefore after running \"b\" function 3 times. the function \"c\" which is increasing \"a\" with 2 also get executed 3 times, therfore the value received at the output is 6."
   ]
  },
  {
   "cell_type": "markdown",
   "id": "2ffa7f87",
   "metadata": {},
   "source": [
    "# 2"
   ]
  },
  {
   "cell_type": "code",
   "execution_count": 2,
   "id": "59960077",
   "metadata": {},
   "outputs": [
    {
     "name": "stdout",
     "output_type": "stream",
     "text": [
      "123\n"
     ]
    }
   ],
   "source": [
    "import os\n",
    "def file_length(file_name):\n",
    "    if os.path.exists(file_name):\n",
    "      file = open(file_name)\n",
    "      contents = file.read()\n",
    "      file.close()\n",
    "      print(len(contents))\n",
    "    else:\n",
    "      print('File {} not found.'.format(file_name))\n",
    "\n",
    "file_length('Filelength.txt')"
   ]
  },
  {
   "cell_type": "markdown",
   "id": "4b9073b9",
   "metadata": {},
   "source": [
    "# 3"
   ]
  },
  {
   "cell_type": "code",
   "execution_count": 3,
   "id": "0bb04918",
   "metadata": {},
   "outputs": [
    {
     "name": "stdout",
     "output_type": "stream",
     "text": [
      "['doll', 'firetruck', 'kitten']\n",
      "I am a Kangaroo located at coordinates (0,0)\n",
      "['doll', 'firetruck', 'kitten']\n",
      "I am a Kangaroo located at coordinates (1,0)\n"
     ]
    }
   ],
   "source": [
    "# Phase 1\n",
    "class Marsupial(object):\n",
    "  def __init__(self): \n",
    "    self.lst = [] \n",
    "  def put_in_pouch(self,item):\n",
    "    self.lst.append(item)\n",
    "    return self\n",
    "  def pouch_contents(self):\n",
    "    return self.lst\n",
    "\n",
    "m = Marsupial() \n",
    "m.put_in_pouch(\"doll\")\n",
    "m.put_in_pouch('firetruck')\n",
    "m.put_in_pouch('kitten')\n",
    "print(m.pouch_contents())\n",
    "\n",
    "# Phase 2\n",
    "class Kangaroo(Marsupial):\n",
    "  def __init__(self,x,y):\n",
    "    Marsupial.__init__(self)\n",
    "    self.x=x\n",
    "    self.y=y\n",
    "  def jump(self,dx,dy):\n",
    "    self.x=dx\n",
    "    self.y=dy\n",
    "  def __str__(self):\n",
    "    return \"I am a Kangaroo located at coordinates ({},{})\".format(self.x,self.y)\n",
    "\n",
    "# Task 1\n",
    "k = Kangaroo(0,0) \n",
    "print(k)\n",
    "\n",
    "# Task 2\n",
    "k.put_in_pouch('doll') \n",
    "k.put_in_pouch('firetruck') \n",
    "k.put_in_pouch('kitten') \n",
    "print(k.pouch_contents())\n",
    "\n",
    "# Task 3\n",
    "k.jump(1,0) \n",
    "k.jump(1,0) \n",
    "k.jump(1,0) \n",
    "print(k)"
   ]
  },
  {
   "cell_type": "markdown",
   "id": "540b76ae",
   "metadata": {},
   "source": [
    "# 4"
   ]
  },
  {
   "cell_type": "code",
   "execution_count": 6,
   "id": "9eb9e2b3",
   "metadata": {},
   "outputs": [
    {
     "name": "stdout",
     "output_type": "stream",
     "text": [
      "10\n",
      "5\n",
      "16\n",
      "8\n",
      "4\n",
      "2\n",
      "1\n"
     ]
    }
   ],
   "source": [
    "def collatz(n): \n",
    "    while n != 1: \n",
    "        print(n) \n",
    "        if n & 1: \n",
    "            n = 3 * n + 1\n",
    "        else: \n",
    "            n = n // 2\n",
    "    print(n) \n",
    " \n",
    "collatz(10)"
   ]
  },
  {
   "cell_type": "markdown",
   "id": "4958dca8",
   "metadata": {},
   "source": [
    "# 5"
   ]
  },
  {
   "cell_type": "code",
   "execution_count": 7,
   "id": "fedc7c15",
   "metadata": {},
   "outputs": [
    {
     "data": {
      "text/plain": [
       "'1001'"
      ]
     },
     "execution_count": 7,
     "metadata": {},
     "output_type": "execute_result"
    }
   ],
   "source": [
    "def binary(n):\n",
    "    return (binary(n // 2) if n > 1 else '') + str(n % 2)\n",
    "\n",
    "binary(9)"
   ]
  },
  {
   "cell_type": "markdown",
   "id": "a7090599",
   "metadata": {},
   "source": [
    "# 6"
   ]
  },
  {
   "cell_type": "code",
   "execution_count": 3,
   "id": "6805ee5c",
   "metadata": {},
   "outputs": [
    {
     "name": "stdout",
     "output_type": "stream",
     "text": [
      "W3C Mission\n",
      "  Principles\n"
     ]
    }
   ],
   "source": [
    "from html.parser import HTMLParser\n",
    "class HeadingParser(HTMLParser):\n",
    "    def __init__(self):\n",
    "        HTMLParser.__init__(self)\n",
    "        self.inLink = False\n",
    "        self.dataArray = []\n",
    "        self.countLanguages = 0\n",
    "        self.lasttag = None\n",
    "        self.lastname = None\n",
    "        self.lastvalue = None\n",
    "\n",
    "    def handle_starttag(self, tag, attrs):\n",
    "        self.inLink = False\n",
    "        if tag == 'h1' or tag == 'h2':\n",
    "            self.inLink = True\n",
    "            self.lasttag = tag\n",
    "\n",
    "    def handle_endtag(self, tag):\n",
    "        if tag == \"h1\" or tag == 'h2':\n",
    "            self.inlink = False\n",
    "\n",
    "    def handle_data(self, data):\n",
    "        if self.lasttag == 'h1' and self.inLink and data.strip():\n",
    "            print(data)\n",
    "        elif self.lasttag == 'h2' and self.inLink and data.strip():\n",
    "          print(' ',data)\n",
    "\n",
    "\n",
    "# Main Code\n",
    "infile = open('w3c.html')\n",
    "content = infile.read()\n",
    "infile.close()\n",
    "hp = HeadingParser()\n",
    "hp.feed(content)"
   ]
  },
  {
   "cell_type": "markdown",
   "id": "e905181f",
   "metadata": {},
   "source": [
    "# 7"
   ]
  },
  {
   "cell_type": "markdown",
   "id": "58870992",
   "metadata": {},
   "source": [
    "# 8"
   ]
  },
  {
   "cell_type": "markdown",
   "id": "661d92c1",
   "metadata": {},
   "source": [
    "A. SELECT Temperature(C) FROM MyTable;\n",
    "B. SELECT DISTINCT City FROM MyTable;\n",
    "C. SELECT * FROM MYTable WHERE Country == India;\n",
    "D. SELECT Season FROM MYTable WHERE Season == Fall;\n",
    "E. SELECT City, Country, Season FROM MYTable WHERE 200<AVG(Rainfall(mm))<400;\n",
    "F. SELECT City, Country FROM MYTable WHERE ORDER BY Season==Fall and Temperature(C)>20 ASC;\n",
    "G. SELECT SUM(Rainfall(mm)) FROM MYTable WHERE City==Cairo;\n",
    "H. SELECT SUM(Rainfall(mm)) FROM MYTable GROUP BY Season;\n"
   ]
  },
  {
   "cell_type": "markdown",
   "id": "66eb6224",
   "metadata": {},
   "source": [
    "  # 9 "
   ]
  },
  {
   "cell_type": "code",
   "execution_count": 4,
   "id": "0dd524a3",
   "metadata": {},
   "outputs": [
    {
     "name": "stdout",
     "output_type": "stream",
     "text": [
      "['THE', 'QUICK', 'BROWN', 'FOX', 'JUMPS', 'OVER', 'THE', 'LAZY', 'DOG']\n",
      "['the', 'quick', 'brown', 'fox', 'jumps', 'over', 'the', 'lazy', 'dog']\n",
      "[3, 5, 5, 3, 5, 4, 3, 4, 3]\n",
      "[['THE', 'the', 3], ['QUICK', 'quick', 5], ['BROWN', 'brown', 5], ['FOX', 'fox', 3], ['JUMPS', 'jumps', 5], ['OVER', 'over', 4], ['THE', 'the', 3], ['LAZY', 'lazy', 4], ['DOG', 'dog', 3]]\n",
      "['quick', 'brown', 'jumps', 'over', 'lazy']\n"
     ]
    }
   ],
   "source": [
    "words = ['The', 'quick', 'brown', 'fox', 'jumps', 'over', 'the', 'lazy', 'dog']\n",
    "h_letters = [ letter.upper() for letter in words ]\n",
    "print(h_letters)\n",
    "h_letters = [ letter.lower() for letter in words ]\n",
    "print(h_letters)\n",
    "h_letters = [ len(letter) for letter in words ]\n",
    "print(h_letters)\n",
    "h_letters = [ [letter.upper(),letter.lower(),len(letter)] for letter in words ]\n",
    "print(h_letters)\n",
    "h_letters = [ letter for letter in words if len(letter) >=4]\n",
    "print(h_letters)"
   ]
  },
  {
   "cell_type": "code",
   "execution_count": null,
   "id": "0db66b42",
   "metadata": {},
   "outputs": [],
   "source": []
  }
 ],
 "metadata": {
  "kernelspec": {
   "display_name": "Python 3 (ipykernel)",
   "language": "python",
   "name": "python3"
  },
  "language_info": {
   "codemirror_mode": {
    "name": "ipython",
    "version": 3
   },
   "file_extension": ".py",
   "mimetype": "text/x-python",
   "name": "python",
   "nbconvert_exporter": "python",
   "pygments_lexer": "ipython3",
   "version": "3.9.7"
  }
 },
 "nbformat": 4,
 "nbformat_minor": 5
}
